{
 "cells": [
  {
   "cell_type": "code",
   "execution_count": 142,
   "metadata": {
    "collapsed": true,
    "pycharm": {
     "name": "#%%\n"
    }
   },
   "outputs": [],
   "source": [
    "import warnings\n",
    "warnings.filterwarnings('ignore')\n",
    "from sklearn.metrics import roc_auc_score\n",
    "from sklearn.pipeline import Pipeline\n",
    "from sklearn.preprocessing import StandardScaler\n",
    "from sklearn.linear_model import LogisticRegression, RidgeClassifierCV\n",
    "from sklearn.ensemble import RandomForestClassifier\n",
    "import xgboost as xgb\n",
    "from sklearn.model_selection import cross_val_score\n",
    "from sklearn.naive_bayes import GaussianNB\n",
    "from sklearn.tree import DecisionTreeClassifier\n",
    "from sklearn.neural_network import MLPClassifier\n",
    "from sklearn.svm import SVC\n",
    "import numpy as np\n",
    "import pandas as pd\n",
    "from sklearn.model_selection import train_test_split\n",
    "from sklearn.model_selection import RepeatedStratifiedKFold\n"
   ]
  },
  {
   "cell_type": "code",
   "execution_count": 143,
   "outputs": [],
   "source": [
    "X = pd.read_csv('Hotel Reservations.csv') # full model\n",
    "y = X['booking_status']\n",
    "X.drop(['booking_status', 'Booking_ID'], axis = 1, inplace = True)"
   ],
   "metadata": {
    "collapsed": false,
    "pycharm": {
     "name": "#%%\n"
    }
   }
  },
  {
   "cell_type": "code",
   "execution_count": 138,
   "outputs": [],
   "source": [
    "X = pd.get_dummies(X)\n",
    "y = pd.DataFrame(np.where(np.array(y==\"Canceled\"),1,0), columns=[\"cancelled\"])\n",
    "X_train, X_test, y_train, y_test = train_test_split(X,y, random_state=1, test_size=None, train_size=0.3)"
   ],
   "metadata": {
    "collapsed": false,
    "pycharm": {
     "name": "#%%\n"
    }
   }
  },
  {
   "cell_type": "markdown",
   "source": [
    "## Kfold CV"
   ],
   "metadata": {
    "collapsed": false,
    "pycharm": {
     "name": "#%% md\n"
    }
   }
  },
  {
   "cell_type": "code",
   "execution_count": 114,
   "outputs": [],
   "source": [
    "# from sklearn.metrics import roc_auc_score\n",
    "# from sklearn.model_selection import KFold, RepeatedKFold\n",
    "# from sklearn.pipeline import Pipeline\n",
    "# from sklearn.preprocessing import StandardScaler\n",
    "# from sklearn.linear_model import LogisticRegression\n",
    "# from sklearn.ensemble import RandomForestClassifier\n",
    "# import xgboost as xgb\n",
    "#\n",
    "# # create K-fold object with 5 folds\n",
    "# kf = RepeatedKFold(n_splits=5, random_state=8)\n",
    "# models = {\n",
    "#     \"Logistic Regression\": LogisticRegression(),\n",
    "#     \"Random Forest\": RandomForestClassifier(),\n",
    "#     \"XGBoost\": xgb.XGBClassifier(max_depth=10, learning_rate=0.1)\n",
    "# }\n",
    "# cv_scores = {}\n",
    "# for name, model in models.items():\n",
    "#     pipeline = Pipeline(steps=[(\"scaler\", StandardScaler()), (\"clf\", model)])\n",
    "#     for train_index, test_index in kf.split(X_train):\n",
    "#         pipeline.fit(X_train.iloc[train_index, :], y_train.iloc[train_index])\n",
    "#         p_pred = pipeline.predict_proba(X_train.iloc[test_index, :])[:, 1]\n",
    "#         cv_scores[name] = roc_auc_score(y_train.iloc[test_index], p_pred)\n",
    "# print(cv_scores)"
   ],
   "metadata": {
    "collapsed": false,
    "pycharm": {
     "name": "#%%\n"
    }
   }
  },
  {
   "cell_type": "code",
   "execution_count": 115,
   "outputs": [
    {
     "name": "stdout",
     "output_type": "stream",
     "text": [
      "{'Naive Bayes': 0.78482956703473, 'Logistic Regression': 0.8594775009597072, 'RidgeClassifierCV': 0.857547900758797, 'Neural_Network': 0.8992225158355438, 'svc': 0.8665645453708285, 'DecisionTreeClassifier': 0.8177323256539891, 'Random Forest': 0.9331536733303645, 'XGBoost': 0.942375625660642}\n"
     ]
    }
   ],
   "source": [
    "# Run CV for 5 folds\n",
    "models = {\n",
    "    # Baseline model\n",
    "    \"Naive Bayes\" : GaussianNB(),\n",
    "    # Linear model\n",
    "    \"Logistic Regression\": LogisticRegression(),\n",
    "    \"RidgeClassifierCV\": RidgeClassifierCV(alphas=[1e-3, 1e-2, 1e-1, 1]),\n",
    "    # Non-linear model\n",
    "    \"Neural_Network\": MLPClassifier(hidden_layer_sizes = 100,learning_rate_init = 0.01),\n",
    "    \"svc\": SVC(C = 1, gamma = 1, kernel = 'rbf'),\n",
    "    # Tree based model\n",
    "    \"DecisionTreeClassifier\":DecisionTreeClassifier(),\n",
    "    \"Random Forest\": RandomForestClassifier(),\n",
    "    \"XGBoost\": xgb.XGBClassifier(max_depth=10, learning_rate=0.1),\n",
    "}\n",
    "\n",
    "# Create folds\n",
    "cv = RepeatedStratifiedKFold(n_splits=5, shuffle=True, random_state=10)\n",
    "\n",
    "# Run for k folds to find best model.\n",
    "cv_scores = {}\n",
    "for name, model in models.items():\n",
    "    pipeline = Pipeline(steps=[(\"scaler\", StandardScaler()), (\"clf\", model)])\n",
    "    cur_score = np.mean(cross_val_score(pipeline, X_train, y_train, cv=cv, scoring = \"roc_auc\"))\n",
    "    cv_scores[name] = cur_score\n",
    "print(cv_scores)\n"
   ],
   "metadata": {
    "collapsed": false,
    "pycharm": {
     "name": "#%%\n"
    }
   }
  },
  {
   "cell_type": "markdown",
   "source": [
    "## Final model"
   ],
   "metadata": {
    "collapsed": false,
    "pycharm": {
     "name": "#%% md\n"
    }
   }
  },
  {
   "cell_type": "code",
   "execution_count": 118,
   "outputs": [
    {
     "name": "stdout",
     "output_type": "stream",
     "text": [
      "The final roc auc score: \n",
      "0.863\n"
     ]
    }
   ],
   "source": [
    "final_model = RandomForestClassifier()\n",
    "final_pip = Pipeline(steps=[(\"scaler\", StandardScaler()), (\"clf\", final_model)])\n",
    "\n",
    "final_pip.fit(X_train, y_train)\n",
    "final_model = final_pip.fit(X_train, y_train)\n",
    "y_pred = final_model.predict(X_test)\n",
    "classifier_score_xgb = roc_auc_score(y_test, y_pred)\n",
    "\n",
    "print(\"The final roc auc score: \")\n",
    "print(round(classifier_score_xgb,3))\n",
    "\n"
   ],
   "metadata": {
    "collapsed": false,
    "pycharm": {
     "name": "#%%\n"
    }
   }
  },
  {
   "cell_type": "code",
   "execution_count": 119,
   "outputs": [
    {
     "data": {
      "text/plain": "<Figure size 800x500 with 1 Axes>",
      "image/png": "[encoded data removed]"
     },
     "metadata": {},
     "output_type": "display_data"
    }
   ],
   "source": [
    "from xgboost import plot_importance\n",
    "from matplotlib import pyplot as plt\n",
    "model = final_model[\"clf\"]\n",
    "sorted_idx = model.feature_importances_.argsort()[::-1]\n",
    "top_n = 5  # Specify the number of top variables you want to display\n",
    "\n",
    "plt.figure(figsize=(8, 5))  # Set the figure size\n",
    "plt.barh(range(top_n), model.feature_importances_[sorted_idx][:top_n], align='center')\n",
    "plt.yticks(range(top_n), X_test.columns[sorted_idx][:top_n])\n",
    "plt.xlabel(\"Xgboost Feature Importance\")\n",
    "\n",
    "plt.show()\n"
   ],
   "metadata": {
    "collapsed": false,
    "pycharm": {
     "name": "#%%\n"
    }
   }
  }
 ],
 "metadata": {
  "kernelspec": {
   "display_name": "Python 3",
   "language": "python",
   "name": "python3"
  },
  "language_info": {
   "codemirror_mode": {
    "name": "ipython",
    "version": 2
   },
   "file_extension": ".py",
   "mimetype": "text/x-python",
   "name": "python",
   "nbconvert_exporter": "python",
   "pygments_lexer": "ipython2",
   "version": "2.7.6"
  }
 },
 "nbformat": 4,
 "nbformat_minor": 0
}