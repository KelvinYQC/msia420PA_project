{
 "cells": [
  {
   "cell_type": "markdown",
   "source": [
    "# XGboost model"
   ],
   "metadata": {
    "collapsed": false,
    "pycharm": {
     "name": "#%% md\n"
    }
   }
  },
  {
   "cell_type": "code",
   "execution_count": 1,
   "metadata": {
    "collapsed": true,
    "pycharm": {
     "name": "#%%\n"
    }
   },
   "outputs": [],
   "source": [
    "import xgboost as xgb\n",
    "import pandas as pd\n",
    "from sklearn.preprocessing import LabelEncoder\n",
    "from sklearn.model_selection import train_test_split\n",
    "from sklearn.model_selection import RandomizedSearchCV\n",
    "\n",
    "from sklearn.preprocessing import StandardScaler\n",
    "from sklearn.pipeline import make_pipeline\n",
    "from sklearn.metrics import roc_auc_score\n",
    "import warnings\n",
    "warnings.filterwarnings('ignore')\n"
   ]
  },
  {
   "cell_type": "code",
   "execution_count": 2,
   "outputs": [],
   "source": [
    "anomoly  = False\n",
    "# load data either by anomoly or not\n",
    "if anomoly:\n",
    "    X=pd.read_csv(\"https://raw.githubusercontent.com/KelvinYQC/msia420PA_project/main/Data/with_anomaly.csv\")\n",
    "else:\n",
    "    X=pd.read_csv(\"https://raw.githubusercontent.com/KelvinYQC/msia420PA_project/main/Data/without_anomaly.csv\")\n",
    "y = X['booking_status']\n",
    "X.drop(['booking_status'], axis = 1, inplace = True)\n"
   ],
   "metadata": {
    "collapsed": false,
    "pycharm": {
     "name": "#%%\n"
    }
   }
  },
  {
   "cell_type": "code",
   "execution_count": 3,
   "outputs": [],
   "source": [
    "# train test split\n",
    "X_train, X_test, y_train, y_test = train_test_split(X,y, random_state=1, test_size=None, train_size=0.3)"
   ],
   "metadata": {
    "collapsed": false,
    "pycharm": {
     "name": "#%%\n"
    }
   }
  },
  {
   "cell_type": "code",
   "execution_count": 7,
   "outputs": [
    {
     "name": "stdout",
     "output_type": "stream",
     "text": [
      "Best parameters: {'clf__max_depth': 15, 'clf__learning_rate': None}\n"
     ]
    }
   ],
   "source": [
    "from sklearn.pipeline import Pipeline\n",
    "from sklearn.experimental import enable_halving_search_cv # noqa\n",
    "from sklearn.model_selection import HalvingRandomSearchCV\n",
    "\n",
    "pipeline = Pipeline(steps=[(\"scaler\", StandardScaler()), (\"clf\", xgb.XGBClassifier())])\n",
    "\n",
    "\n",
    "parameters = {\n",
    "    'clf__learning_rate': [0.001, 0.01, 0.05, 0.1, None],\n",
    "    'clf__max_depth': [2,5,7,10,15,30, None]\n",
    "}\n",
    "\n",
    "clf = HalvingRandomSearchCV(\n",
    "    pipeline, parameters, scoring=\"roc_auc\", n_jobs=-1, factor=4, cv = 10\n",
    ")\n",
    "\n",
    "# clf = RandomizedSearchCV(estimator=pipeline,\n",
    "#                          param_distributions = parameters,\n",
    "#                          n_iter=20,\n",
    "#                          verbose=1,\n",
    "#                          cv = 5,\n",
    "#                          scoring = 'roc_auc')\n",
    "clf_xgb = clf.fit(X_train, y_train)\n",
    "print(\"Best parameters:\", clf.best_params_)\n"
   ],
   "metadata": {
    "collapsed": false,
    "pycharm": {
     "name": "#%%\n"
    }
   }
  },
  {
   "cell_type": "code",
   "execution_count": 8,
   "outputs": [
    {
     "name": "stdout",
     "output_type": "stream",
     "text": [
      "The resulting roc auc score: \n",
      "0.854\n"
     ]
    }
   ],
   "source": [
    "from sklearn.metrics import roc_auc_score\n",
    "\n",
    "y_pred = clf_xgb.predict(X_test)\n",
    "classifier_score_xgb = roc_auc_score(y_test, y_pred)\n",
    "\n",
    "print(\"The resulting roc auc score: \")\n",
    "print(round(classifier_score_xgb,3))"
   ],
   "metadata": {
    "collapsed": false,
    "pycharm": {
     "name": "#%%\n"
    }
   }
  },
  {
   "cell_type": "markdown",
   "source": [
    "The AUC from XGboost model is 0.854."
   ],
   "metadata": {
    "collapsed": false,
    "pycharm": {
     "name": "#%% md\n"
    }
   }
  }
 ],
 "metadata": {
  "kernelspec": {
   "display_name": "Python 3",
   "language": "python",
   "name": "python3"
  },
  "language_info": {
   "codemirror_mode": {
    "name": "ipython",
    "version": 2
   },
   "file_extension": ".py",
   "mimetype": "text/x-python",
   "name": "python",
   "nbconvert_exporter": "python",
   "pygments_lexer": "ipython2",
   "version": "2.7.6"
  }
 },
 "nbformat": 4,
 "nbformat_minor": 0
}