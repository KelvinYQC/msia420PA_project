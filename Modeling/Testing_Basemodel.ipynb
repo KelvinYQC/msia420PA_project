{
 "cells": [
  {
   "cell_type": "markdown",
   "source": [
    "# Test out different models"
   ],
   "metadata": {
    "collapsed": false,
    "pycharm": {
     "name": "#%% md\n"
    }
   }
  },
  {
   "cell_type": "code",
   "execution_count": 1,
   "metadata": {
    "collapsed": true,
    "pycharm": {
     "name": "#%%\n"
    }
   },
   "outputs": [],
   "source": [
    "# load packages\n",
    "import pandas as pd\n",
    "from sklearn.ensemble import GradientBoostingClassifier, RandomForestClassifier\n",
    "from sklearn.tree import DecisionTreeClassifier\n",
    "from sklearn.model_selection import train_test_split\n",
    "from sklearn.preprocessing import LabelEncoder\n",
    "import xgboost as xgb\n",
    "from sklearn.preprocessing import StandardScaler\n",
    "from sklearn.pipeline import make_pipeline\n",
    "from sklearn.metrics import roc_auc_score\n",
    "from catboost import CatBoostClassifier\n"
   ]
  },
  {
   "cell_type": "code",
   "execution_count": 2,
   "outputs": [],
   "source": [
    "anomoly  = False\n",
    "# load data either by anomoly or not\n",
    "if anomoly:\n",
    "    X=pd.read_csv(\"https://raw.githubusercontent.com/KelvinYQC/msia420PA_project/main/Data/with_anomaly.csv\")\n",
    "else:\n",
    "    X=pd.read_csv(\"https://raw.githubusercontent.com/KelvinYQC/msia420PA_project/main/Data/without_anomaly.csv\")\n",
    "y = X['booking_status']\n",
    "X.drop(['booking_status'], axis = 1, inplace = True)"
   ],
   "metadata": {
    "collapsed": false,
    "pycharm": {
     "name": "#%%\n"
    }
   }
  },
  {
   "cell_type": "code",
   "execution_count": 3,
   "outputs": [],
   "source": [
    "# train test data\n",
    "X_train, X_test, y_train, y_test = train_test_split(X,y, test_size=None, train_size=0.3, random_state=1)"
   ],
   "metadata": {
    "collapsed": false,
    "pycharm": {
     "name": "#%%\n"
    }
   }
  },
  {
   "cell_type": "code",
   "execution_count": 4,
   "outputs": [
    {
     "data": {
      "text/plain": "0    15407\n1     7274\nName: booking_status, dtype: int64"
     },
     "execution_count": 4,
     "metadata": {},
     "output_type": "execute_result"
    }
   ],
   "source": [
    "# the dataset is somewhat imbalanced\n",
    "y_test.value_counts()"
   ],
   "metadata": {
    "collapsed": false,
    "pycharm": {
     "name": "#%%\n"
    }
   }
  },
  {
   "cell_type": "code",
   "execution_count": 5,
   "outputs": [],
   "source": [
    "from sklearn.svm import SVC\n",
    "from collections import defaultdict\n",
    "from sklearn import linear_model\n",
    "from sklearn import neighbors\n",
    "from sklearn import neural_network\n",
    "\n",
    "result = defaultdict(int)\n",
    "MLA_compare = pd.DataFrame()\n",
    "# list of model for comparison\n",
    "modelList = [\n",
    "    # linear model\n",
    "    linear_model.LogisticRegression(),\n",
    "    linear_model.RidgeClassifierCV(),\n",
    "    linear_model.SGDClassifier(),\n",
    "    # knn\n",
    "    neighbors.KNeighborsClassifier(),\n",
    "    DecisionTreeClassifier(),\n",
    "    SVC(),\n",
    "    #tree\n",
    "    DecisionTreeClassifier(),\n",
    "    GradientBoostingClassifier(),\n",
    "    RandomForestClassifier(),\n",
    "    xgb.XGBClassifier(),\n",
    "    CatBoostClassifier(verbose = False),\n",
    "    #NN\n",
    "    neural_network.MLPClassifier()\n",
    "\n",
    "]\n",
    "\n",
    "def modeling(models, X_train,y_train, X_test, y_test, metric):\n",
    "    row_index = 0\n",
    "    for classifier in models:\n",
    "        pipeline = make_pipeline(StandardScaler(), classifier)\n",
    "        pipeline.fit(X_train, y_train)\n",
    "        y_pred = pipeline.predict(X_test)\n",
    "        classifier_metric = metric(y_test, y_pred)\n",
    "        result[classifier.__class__.__name__] = classifier_metric\n",
    "        row_index+=1\n",
    "    return result\n"
   ],
   "metadata": {
    "collapsed": false,
    "pycharm": {
     "name": "#%%\n"
    }
   }
  },
  {
   "cell_type": "code",
   "execution_count": 6,
   "outputs": [
    {
     "name": "stderr",
     "output_type": "stream",
     "text": [
      "/opt/homebrew/lib/python3.10/site-packages/sklearn/neural_network/_multilayer_perceptron.py:702: ConvergenceWarning: Stochastic Optimizer: Maximum iterations (200) reached and the optimization hasn't converged yet.\n",
      "  warnings.warn(\n"
     ]
    }
   ],
   "source": [
    "# train and predict the mode\n",
    "performance = modeling(modelList, X_train,y_train, X_test, y_test,roc_auc_score)"
   ],
   "metadata": {
    "collapsed": false,
    "pycharm": {
     "name": "#%%\n"
    }
   }
  },
  {
   "cell_type": "code",
   "execution_count": 7,
   "outputs": [
    {
     "data": {
      "text/plain": "[('RidgeClassifierCV', 0.7436846191787925),\n ('SGDClassifier', 0.7542109290509392),\n ('LogisticRegression', 0.7610824240144942),\n ('SVC', 0.7941467665920845),\n ('KNeighborsClassifier', 0.7991959580306393),\n ('GradientBoostingClassifier', 0.8157946588593443),\n ('DecisionTreeClassifier', 0.8220235718014617),\n ('MLPClassifier', 0.8243799006978803),\n ('CatBoostClassifier', 0.848491505143217),\n ('XGBClassifier', 0.8571908135554438),\n ('RandomForestClassifier', 0.8574992755900351)]"
     },
     "execution_count": 7,
     "metadata": {},
     "output_type": "execute_result"
    }
   ],
   "source": [
    "# rank the performance of different models\n",
    "sorted(performance.items(), key=lambda x:x[1])"
   ],
   "metadata": {
    "collapsed": false,
    "pycharm": {
     "name": "#%%\n"
    }
   }
  },
  {
   "cell_type": "markdown",
   "source": [
    "We found XGboost, random forest, catboost has better performance. It can be due to we have more categorical featues. We would further fine tune some of the best performing models of come up with a final model"
   ],
   "metadata": {
    "collapsed": false,
    "pycharm": {
     "name": "#%% md\n"
    }
   }
  }
 ],
 "metadata": {
  "kernelspec": {
   "display_name": "Python 3",
   "language": "python",
   "name": "python3"
  },
  "language_info": {
   "codemirror_mode": {
    "name": "ipython",
    "version": 2
   },
   "file_extension": ".py",
   "mimetype": "text/x-python",
   "name": "python",
   "nbconvert_exporter": "python",
   "pygments_lexer": "ipython2",
   "version": "2.7.6"
  }
 },
 "nbformat": 4,
 "nbformat_minor": 0
}