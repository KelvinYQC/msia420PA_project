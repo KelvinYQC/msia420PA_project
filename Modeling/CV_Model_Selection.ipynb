{
 "cells": [
  {
   "cell_type": "markdown",
   "metadata": {
    "pycharm": {
     "name": "#%% md\n"
    }
   },
   "source": [
    "# Cross Validation on All Models"
   ]
  },
  {
   "cell_type": "code",
   "execution_count": 1,
   "metadata": {
    "pycharm": {
     "name": "#%%\n"
    }
   },
   "outputs": [],
   "source": [
    "import warnings\n",
    "warnings.filterwarnings('ignore')\n",
    "from sklearn.metrics import roc_auc_score\n",
    "from sklearn.pipeline import Pipeline\n",
    "from sklearn.preprocessing import StandardScaler\n",
    "from sklearn.linear_model import LogisticRegression, RidgeClassifierCV\n",
    "from sklearn.ensemble import RandomForestClassifier\n",
    "import xgboost as xgb\n",
    "from sklearn.model_selection import cross_val_score\n",
    "from sklearn.naive_bayes import GaussianNB\n",
    "from sklearn.tree import DecisionTreeClassifier\n",
    "from sklearn.neural_network import MLPClassifier\n",
    "from sklearn.svm import SVC\n",
    "import numpy as np\n",
    "import pandas as pd\n",
    "from sklearn.model_selection import train_test_split\n",
    "from sklearn.model_selection import RepeatedStratifiedKFold\n"
   ]
  },
  {
   "cell_type": "code",
   "execution_count": 2,
   "metadata": {
    "collapsed": false,
    "jupyter": {
     "outputs_hidden": false
    },
    "pycharm": {
     "name": "#%%\n"
    }
   },
   "outputs": [],
   "source": [
    "anomoly  = False\n",
    "\n",
    "# load data either by anomoly or not\n",
    "if anomoly:\n",
    "    X=pd.read_csv(\"https://raw.githubusercontent.com/KelvinYQC/msia420PA_project/main/Data/with_anomaly.csv\")\n",
    "else:\n",
    "    X=pd.read_csv(\"https://raw.githubusercontent.com/KelvinYQC/msia420PA_project/main/Data/without_anomaly.csv\")\n",
    "y = X['booking_status']\n",
    "X.drop(['booking_status'], axis = 1, inplace = True)\n"
   ]
  },
  {
   "cell_type": "code",
   "execution_count": 3,
   "metadata": {
    "collapsed": false,
    "jupyter": {
     "outputs_hidden": false
    },
    "pycharm": {
     "name": "#%%\n"
    }
   },
   "outputs": [],
   "source": [
    "# train test split\n",
    "X_train, X_test, y_train, y_test = train_test_split(X,y, random_state=1, test_size=None, train_size=0.3)"
   ]
  },
  {
   "cell_type": "markdown",
   "metadata": {
    "pycharm": {
     "name": "#%% md\n"
    }
   },
   "source": [
    "## Stratified K-fold CV\n",
    "Since we have imbalanced dataset, we would use stratified K-fold cross validation to test the model. In such manner, we would ensure each fold would have a representative proportion of both the majority class and minority class.\n"
   ]
  },
  {
   "cell_type": "code",
   "execution_count": 4,
   "metadata": {
    "collapsed": false,
    "jupyter": {
     "outputs_hidden": false
    },
    "pycharm": {
     "name": "#%%\n"
    }
   },
   "outputs": [
    {
     "name": "stdout",
     "output_type": "stream",
     "text": [
      "{'Naive Bayes': 0.7934784789992383, 'Logistic Regression': 0.8554749144324799, 'RidgeClassifierCV': 0.8553588347600939, 'Neural_Network': 0.8930518188193989, 'svc': 0.8825549709734914, 'DecisionTreeClassifier': 0.8224114514980566, 'Random Forest': 0.9373128209043726, 'XGBoost': 0.9337680717445344}\n"
     ]
    }
   ],
   "source": [
    "# Run CV for 5 folds\n",
    "models = {\n",
    "    # Baseline model\n",
    "    \"Naive Bayes\" : GaussianNB(),\n",
    "    # Linear model\n",
    "    \"Logistic Regression\": LogisticRegression(),\n",
    "    \"RidgeClassifierCV\": RidgeClassifierCV(alphas=[1e-3, 1e-2, 1e-1, 1]),\n",
    "    # Non-linear model\n",
    "    \"Neural_Network\": MLPClassifier(hidden_layer_sizes = 30,learning_rate_init = 0.001),\n",
    "    \"svc\": SVC(C = 10, gamma = 0.1, kernel = 'poly'),\n",
    "    # Tree based model\n",
    "    \"DecisionTreeClassifier\":DecisionTreeClassifier(),\n",
    "    \"Random Forest\": RandomForestClassifier(n_estimators = 800,min_samples_split= 5,min_samples_leaf=1,max_features=\"sqrt\", max_depth= 100),\n",
    "    \"XGBoost\": xgb.XGBClassifier(max_depth=15, learning_rate=None),\n",
    "}\n",
    "\n",
    "# Create folds\n",
    "cv = RepeatedStratifiedKFold(n_splits=5, n_repeats=3, random_state=10)\n",
    "\n",
    "# Run for k folds to find best model.\n",
    "cv_scores = {}\n",
    "for name, model in models.items():\n",
    "    pipeline = Pipeline(steps=[(\"scaler\", StandardScaler()), (\"clf\", model)])\n",
    "    cur_score = np.mean(cross_val_score(pipeline, X_train, y_train, cv=cv, scoring = \"roc_auc\"))\n",
    "    cv_scores[name] = cur_score\n",
    "print(cv_scores)\n"
   ]
  },
  {
   "cell_type": "code",
   "execution_count": 6,
   "metadata": {},
   "outputs": [
    {
     "name": "stdout",
     "output_type": "stream",
     "text": [
      "('Naive Bayes', 0.7934784789992383)\n",
      "('DecisionTreeClassifier', 0.8224114514980566)\n",
      "('RidgeClassifierCV', 0.8553588347600939)\n",
      "('Logistic Regression', 0.8554749144324799)\n",
      "('svc', 0.8825549709734914)\n",
      "('Neural_Network', 0.8930518188193989)\n",
      "('XGBoost', 0.9337680717445344)\n",
      "('Random Forest', 0.9373128209043726)\n"
     ]
    }
   ],
   "source": [
    "for i , v in sorted(cv_scores.items(), key = lambda x:x[1]):\n",
    "    print((i,v))"
   ]
  },
  {
   "cell_type": "markdown",
   "metadata": {
    "pycharm": {
     "name": "#%% md\n"
    }
   },
   "source": [
    "## Final model"
   ]
  },
  {
   "cell_type": "markdown",
   "metadata": {
    "pycharm": {
     "name": "#%% md\n"
    }
   },
   "source": [
    "### Fit the final model"
   ]
  },
  {
   "cell_type": "code",
   "execution_count": 7,
   "metadata": {
    "collapsed": false,
    "jupyter": {
     "outputs_hidden": false
    },
    "pycharm": {
     "name": "#%%\n"
    }
   },
   "outputs": [
    {
     "name": "stdout",
     "output_type": "stream",
     "text": [
      "The final roc auc score: \n",
      "0.859\n"
     ]
    }
   ],
   "source": [
    "final_model = RandomForestClassifier(n_estimators = 800,min_samples_split= 5,min_samples_leaf=1,max_features=\"sqrt\", max_depth= 100)\n",
    "final_pip = Pipeline(steps=[(\"scaler\", StandardScaler()), (\"clf\", final_model)])\n",
    "\n",
    "final_pip.fit(X_train, y_train)\n",
    "final_model = final_pip.fit(X_train, y_train)\n",
    "y_pred = final_model.predict(X_test)\n",
    "classifier_score_xgb = roc_auc_score(y_test, y_pred)\n",
    "\n",
    "print(\"The final roc auc score: \")\n",
    "print(round(classifier_score_xgb,3))\n",
    "\n"
   ]
  },
  {
   "cell_type": "markdown",
   "metadata": {
    "pycharm": {
     "name": "#%% md\n"
    }
   },
   "source": [
    "### Variable Importance Plot"
   ]
  },
  {
   "cell_type": "code",
   "execution_count": 8,
   "metadata": {
    "collapsed": false,
    "jupyter": {
     "outputs_hidden": false
    },
    "pycharm": {
     "name": "#%%\n"
    }
   },
   "outputs": [
    {
     "data": {
      "image/png": "[encoded data removed]",
      "text/plain": [
       "<Figure size 576x360 with 1 Axes>"
      ]
     },
     "metadata": {
      "needs_background": "light"
     },
     "output_type": "display_data"
    }
   ],
   "source": [
    "from xgboost import plot_importance\n",
    "from matplotlib import pyplot as plt\n",
    "model = final_model[\"clf\"]\n",
    "sorted_idx = model.feature_importances_.argsort()[::-1]\n",
    "top_n = 5  # Specify the number of top variables you want to display\n",
    "\n",
    "plt.figure(figsize=(8, 5))  # Set the figure size\n",
    "plt.barh(range(top_n), model.feature_importances_[sorted_idx][:top_n], align='center')\n",
    "plt.yticks(range(top_n), X_test.columns[sorted_idx][:top_n])\n",
    "plt.xlabel(\"Xgboost Feature Importance\")\n",
    "\n",
    "plt.show()\n"
   ]
  }
 ],
 "metadata": {
  "kernelspec": {
   "display_name": "Python 3 (ipykernel)",
   "language": "python",
   "name": "python3"
  },
  "language_info": {
   "codemirror_mode": {
    "name": "ipython",
    "version": 3
   },
   "file_extension": ".py",
   "mimetype": "text/x-python",
   "name": "python",
   "nbconvert_exporter": "python",
   "pygments_lexer": "ipython3",
   "version": "3.9.7"
  }
 },
 "nbformat": 4,
 "nbformat_minor": 4
}
