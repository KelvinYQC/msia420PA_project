{
 "cells": [
  {
   "cell_type": "markdown",
   "source": [
    "# Cross Validation on All Models"
   ],
   "metadata": {
    "collapsed": false,
    "pycharm": {
     "name": "#%% md\n"
    }
   }
  },
  {
   "cell_type": "code",
   "execution_count": 151,
   "metadata": {
    "collapsed": true,
    "pycharm": {
     "name": "#%%\n"
    }
   },
   "outputs": [],
   "source": [
    "import warnings\n",
    "warnings.filterwarnings('ignore')\n",
    "from sklearn.metrics import roc_auc_score\n",
    "from sklearn.pipeline import Pipeline\n",
    "from sklearn.preprocessing import StandardScaler\n",
    "from sklearn.linear_model import LogisticRegression, RidgeClassifierCV\n",
    "from sklearn.ensemble import RandomForestClassifier\n",
    "import xgboost as xgb\n",
    "from sklearn.model_selection import cross_val_score\n",
    "from sklearn.naive_bayes import GaussianNB\n",
    "from sklearn.tree import DecisionTreeClassifier\n",
    "from sklearn.neural_network import MLPClassifier\n",
    "from sklearn.svm import SVC\n",
    "import numpy as np\n",
    "import pandas as pd\n",
    "from sklearn.model_selection import train_test_split\n",
    "from sklearn.model_selection import RepeatedStratifiedKFold\n"
   ]
  },
  {
   "cell_type": "code",
   "execution_count": 152,
   "outputs": [],
   "source": [
    "anomoly  = False\n",
    "\n",
    "# load data either by anomoly or not\n",
    "if anomoly:\n",
    "    X=pd.read_csv(\"https://raw.githubusercontent.com/KelvinYQC/msia420PA_project/main/Data/with_anomaly.csv\")\n",
    "else:\n",
    "    X=pd.read_csv(\"https://raw.githubusercontent.com/KelvinYQC/msia420PA_project/main/Data/without_anomaly.csv\")\n",
    "y = X['booking_status']\n",
    "X.drop(['booking_status'], axis = 1, inplace = True)\n"
   ],
   "metadata": {
    "collapsed": false,
    "pycharm": {
     "name": "#%%\n"
    }
   }
  },
  {
   "cell_type": "code",
   "execution_count": 153,
   "outputs": [],
   "source": [
    "# train test split\n",
    "X_train, X_test, y_train, y_test = train_test_split(X,y, random_state=1, test_size=None, train_size=0.3)"
   ],
   "metadata": {
    "collapsed": false,
    "pycharm": {
     "name": "#%%\n"
    }
   }
  },
  {
   "cell_type": "markdown",
   "source": [
    "## Stratified K-fold CV\n",
    "Since we have imbalanced dataset, we would use stratified K-fold cross validation to test the model. In such manner, we would ensure each fold would have a representative proportion of both the majority class and minority class.\n"
   ],
   "metadata": {
    "collapsed": false,
    "pycharm": {
     "name": "#%% md\n"
    }
   }
  },
  {
   "cell_type": "code",
   "execution_count": 154,
   "outputs": [
    {
     "name": "stdout",
     "output_type": "stream",
     "text": [
      "{'Naive Bayes': 0.8042421799874918, 'Logistic Regression': 0.8611289330270353, 'RidgeClassifierCV': 0.8605093440887712, 'Neural_Network': 0.9031685999469944, 'svc': 0.8746878536597198, 'DecisionTreeClassifier': 0.8148893133920698, 'Random Forest': 0.9346369127297658, 'XGBoost': 0.9389186998026366}\n"
     ]
    }
   ],
   "source": [
    "# Run CV for 5 folds\n",
    "models = {\n",
    "    # Baseline model\n",
    "    \"Naive Bayes\" : GaussianNB(),\n",
    "    # Linear model\n",
    "    \"Logistic Regression\": LogisticRegression(),\n",
    "    \"RidgeClassifierCV\": RidgeClassifierCV(alphas=[1e-3, 1e-2, 1e-1, 1]),\n",
    "    # Non-linear model\n",
    "    \"Neural_Network\": MLPClassifier(hidden_layer_sizes = 100,learning_rate_init = 0.01),\n",
    "    \"svc\": SVC(C = 1, gamma = 1, kernel = 'rbf'),\n",
    "    # Tree based model\n",
    "    \"DecisionTreeClassifier\":DecisionTreeClassifier(),\n",
    "    \"Random Forest\": RandomForestClassifier(),\n",
    "    \"XGBoost\": xgb.XGBClassifier(max_depth=10, learning_rate=0.1),\n",
    "}\n",
    "\n",
    "# Create folds\n",
    "cv = RepeatedStratifiedKFold(n_splits=10, n_repeats=5, random_state=10)\n",
    "\n",
    "# Run for k folds to find best model.\n",
    "cv_scores = {}\n",
    "for name, model in models.items():\n",
    "    pipeline = Pipeline(steps=[(\"scaler\", StandardScaler()), (\"clf\", model)])\n",
    "    cur_score = np.mean(cross_val_score(pipeline, X_train, y_train, cv=cv, scoring = \"roc_auc\"))\n",
    "    cv_scores[name] = cur_score\n",
    "print(cv_scores)\n"
   ],
   "metadata": {
    "collapsed": false,
    "pycharm": {
     "name": "#%%\n"
    }
   }
  },
  {
   "cell_type": "markdown",
   "source": [
    "## Final model"
   ],
   "metadata": {
    "collapsed": false,
    "pycharm": {
     "name": "#%% md\n"
    }
   }
  },
  {
   "cell_type": "markdown",
   "source": [
    "### Fit the final model"
   ],
   "metadata": {
    "collapsed": false,
    "pycharm": {
     "name": "#%% md\n"
    }
   }
  },
  {
   "cell_type": "code",
   "execution_count": 155,
   "outputs": [
    {
     "name": "stdout",
     "output_type": "stream",
     "text": [
      "The final roc auc score: \n",
      "0.86\n"
     ]
    }
   ],
   "source": [
    "final_model = RandomForestClassifier()\n",
    "final_pip = Pipeline(steps=[(\"scaler\", StandardScaler()), (\"clf\", final_model)])\n",
    "\n",
    "final_pip.fit(X_train, y_train)\n",
    "final_model = final_pip.fit(X_train, y_train)\n",
    "y_pred = final_model.predict(X_test)\n",
    "classifier_score_xgb = roc_auc_score(y_test, y_pred)\n",
    "\n",
    "print(\"The final roc auc score: \")\n",
    "print(round(classifier_score_xgb,3))\n",
    "\n"
   ],
   "metadata": {
    "collapsed": false,
    "pycharm": {
     "name": "#%%\n"
    }
   }
  },
  {
   "cell_type": "markdown",
   "source": [
    "### Variable Importance Plot"
   ],
   "metadata": {
    "collapsed": false,
    "pycharm": {
     "name": "#%% md\n"
    }
   }
  },
  {
   "cell_type": "code",
   "execution_count": 156,
   "outputs": [
    {
     "data": {
      "text/plain": "<Figure size 800x500 with 1 Axes>",
      "image/png": "[encoded data removed]"
     },
     "metadata": {},
     "output_type": "display_data"
    }
   ],
   "source": [
    "from xgboost import plot_importance\n",
    "from matplotlib import pyplot as plt\n",
    "model = final_model[\"clf\"]\n",
    "sorted_idx = model.feature_importances_.argsort()[::-1]\n",
    "top_n = 5  # Specify the number of top variables you want to display\n",
    "\n",
    "plt.figure(figsize=(8, 5))  # Set the figure size\n",
    "plt.barh(range(top_n), model.feature_importances_[sorted_idx][:top_n], align='center')\n",
    "plt.yticks(range(top_n), X_test.columns[sorted_idx][:top_n])\n",
    "plt.xlabel(\"Xgboost Feature Importance\")\n",
    "\n",
    "plt.show()\n"
   ],
   "metadata": {
    "collapsed": false,
    "pycharm": {
     "name": "#%%\n"
    }
   }
  }
 ],
 "metadata": {
  "kernelspec": {
   "display_name": "Python 3",
   "language": "python",
   "name": "python3"
  },
  "language_info": {
   "codemirror_mode": {
    "name": "ipython",
    "version": 2
   },
   "file_extension": ".py",
   "mimetype": "text/x-python",
   "name": "python",
   "nbconvert_exporter": "python",
   "pygments_lexer": "ipython2",
   "version": "2.7.6"
  }
 },
 "nbformat": 4,
 "nbformat_minor": 0
}