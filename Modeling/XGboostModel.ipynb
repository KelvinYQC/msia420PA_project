{
 "cells": [
  {
   "cell_type": "code",
   "execution_count": 15,
   "metadata": {
    "collapsed": true,
    "pycharm": {
     "name": "#%%\n"
    }
   },
   "outputs": [],
   "source": [
    "import xgboost as xgb\n",
    "import pandas as pd\n",
    "from sklearn.preprocessing import LabelEncoder\n",
    "from sklearn.model_selection import train_test_split\n",
    "from sklearn.model_selection import RandomizedSearchCV\n",
    "\n"
   ]
  },
  {
   "cell_type": "code",
   "execution_count": 16,
   "outputs": [],
   "source": [
    "PCA = False\n",
    "if PCA:\n",
    "    X = pd.read_csv(\"msia420PA_project/Dimension Reduction/PCA_dat.csv\", index_col=0) # PCA Model\n",
    "else:\n",
    "    X = pd.read_csv(\"full_dat.csv\", index_col=0) # full model\n",
    "\n",
    "\n",
    "y = pd.read_csv(\"msia420PA_project/Hotel Reservations.csv\")['booking_status']\n",
    "\n",
    "le = LabelEncoder()\n",
    "y = pd.DataFrame(le.fit_transform(y))\n",
    "X_train, X_test, y_train, y_test = train_test_split(X,y, test_size=None, train_size=0.3)"
   ],
   "metadata": {
    "collapsed": false,
    "pycharm": {
     "name": "#%%\n"
    }
   }
  },
  {
   "cell_type": "code",
   "execution_count": null,
   "outputs": [
    {
     "name": "stdout",
     "output_type": "stream",
     "text": [
      "Fitting 5 folds for each of 20 candidates, totalling 100 fits\n"
     ]
    }
   ],
   "source": [
    "parameters = {\n",
    "    'learning_rate': [0.001, 0.01, 0.05, 0.1, None],\n",
    "    'max_depth': [2,5,7,10,None]\n",
    "}\n",
    "\n",
    "\n",
    "xgbr = xgb.XGBClassifier()\n",
    "clf = RandomizedSearchCV(estimator=xgbr,\n",
    "                         param_distributions = parameters,\n",
    "                         n_iter=20,\n",
    "                         verbose=1,\n",
    "                         cv = 5,\n",
    "                         scoring = 'roc_auc')\n",
    "clf_xgb = clf.fit(X_train, y_train)\n",
    "print(\"Best parameters:\", clf.best_params_)\n"
   ],
   "metadata": {
    "collapsed": false,
    "pycharm": {
     "name": "#%%\n",
     "is_executing": true
    }
   }
  },
  {
   "cell_type": "code",
   "execution_count": null,
   "outputs": [],
   "source": [
    "from sklearn.metrics import roc_auc_score\n",
    "\n",
    "y_pred = clf_xgb.predict(X_test)\n",
    "classifier_score_xgb = roc_auc_score(y_test, y_pred)\n",
    "classifier_score_xgb"
   ],
   "metadata": {
    "collapsed": false,
    "pycharm": {
     "name": "#%%\n",
     "is_executing": true
    }
   }
  },
  {
   "cell_type": "code",
   "execution_count": null,
   "outputs": [],
   "source": [],
   "metadata": {
    "collapsed": false,
    "pycharm": {
     "name": "#%%\n",
     "is_executing": true
    }
   }
  }
 ],
 "metadata": {
  "kernelspec": {
   "display_name": "Python 3",
   "language": "python",
   "name": "python3"
  },
  "language_info": {
   "codemirror_mode": {
    "name": "ipython",
    "version": 2
   },
   "file_extension": ".py",
   "mimetype": "text/x-python",
   "name": "python",
   "nbconvert_exporter": "python",
   "pygments_lexer": "ipython2",
   "version": "2.7.6"
  }
 },
 "nbformat": 4,
 "nbformat_minor": 0
}