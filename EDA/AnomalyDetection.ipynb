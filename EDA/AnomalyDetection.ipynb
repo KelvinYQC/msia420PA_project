{
 "cells": [
  {
   "cell_type": "markdown",
   "source": [
    "# Encoding and Anomaly Detection to Remove Outliers"
   ],
   "metadata": {
    "collapsed": false,
    "pycharm": {
     "name": "#%% md\n"
    }
   }
  },
  {
   "cell_type": "code",
   "execution_count": 10,
   "metadata": {
    "collapsed": true,
    "pycharm": {
     "name": "#%%\n"
    }
   },
   "outputs": [],
   "source": [
    "# load package\n",
    "import pandas as pd\n",
    "import matplotlib.pyplot as plt\n",
    "import seaborn as sns\n",
    "import numpy as np"
   ]
  },
  {
   "cell_type": "code",
   "execution_count": 11,
   "outputs": [
    {
     "data": {
      "text/plain": "  Booking_ID  no_of_adults  no_of_children  no_of_weekend_nights  \\\n0   INN00001             2               0                     1   \n1   INN00002             2               0                     2   \n2   INN00003             1               0                     2   \n3   INN00004             2               0                     0   \n4   INN00005             2               0                     1   \n\n   no_of_week_nights type_of_meal_plan  required_car_parking_space  \\\n0                  2       Meal Plan 1                           0   \n1                  3      Not Selected                           0   \n2                  1       Meal Plan 1                           0   \n3                  2       Meal Plan 1                           0   \n4                  1      Not Selected                           0   \n\n  room_type_reserved  lead_time  arrival_year  arrival_month  arrival_date  \\\n0        Room_Type 1        224          2017             10             2   \n1        Room_Type 1          5          2018             11             6   \n2        Room_Type 1          1          2018              2            28   \n3        Room_Type 1        211          2018              5            20   \n4        Room_Type 1         48          2018              4            11   \n\n  market_segment_type  repeated_guest  no_of_previous_cancellations  \\\n0             Offline               0                             0   \n1              Online               0                             0   \n2              Online               0                             0   \n3              Online               0                             0   \n4              Online               0                             0   \n\n   no_of_previous_bookings_not_canceled  avg_price_per_room  \\\n0                                     0               65.00   \n1                                     0              106.68   \n2                                     0               60.00   \n3                                     0              100.00   \n4                                     0               94.50   \n\n   no_of_special_requests  booking_status  \n0                       0               0  \n1                       1               0  \n2                       0               1  \n3                       0               1  \n4                       0               1  ",
      "text/html": "<div>\n<style scoped>\n    .dataframe tbody tr th:only-of-type {\n        vertical-align: middle;\n    }\n\n    .dataframe tbody tr th {\n        vertical-align: top;\n    }\n\n    .dataframe thead th {\n        text-align: right;\n    }\n</style>\n<table border=\"1\" class=\"dataframe\">\n  <thead>\n    <tr style=\"text-align: right;\">\n      <th></th>\n      <th>Booking_ID</th>\n      <th>no_of_adults</th>\n      <th>no_of_children</th>\n      <th>no_of_weekend_nights</th>\n      <th>no_of_week_nights</th>\n      <th>type_of_meal_plan</th>\n      <th>required_car_parking_space</th>\n      <th>room_type_reserved</th>\n      <th>lead_time</th>\n      <th>arrival_year</th>\n      <th>arrival_month</th>\n      <th>arrival_date</th>\n      <th>market_segment_type</th>\n      <th>repeated_guest</th>\n      <th>no_of_previous_cancellations</th>\n      <th>no_of_previous_bookings_not_canceled</th>\n      <th>avg_price_per_room</th>\n      <th>no_of_special_requests</th>\n      <th>booking_status</th>\n    </tr>\n  </thead>\n  <tbody>\n    <tr>\n      <th>0</th>\n      <td>INN00001</td>\n      <td>2</td>\n      <td>0</td>\n      <td>1</td>\n      <td>2</td>\n      <td>Meal Plan 1</td>\n      <td>0</td>\n      <td>Room_Type 1</td>\n      <td>224</td>\n      <td>2017</td>\n      <td>10</td>\n      <td>2</td>\n      <td>Offline</td>\n      <td>0</td>\n      <td>0</td>\n      <td>0</td>\n      <td>65.00</td>\n      <td>0</td>\n      <td>0</td>\n    </tr>\n    <tr>\n      <th>1</th>\n      <td>INN00002</td>\n      <td>2</td>\n      <td>0</td>\n      <td>2</td>\n      <td>3</td>\n      <td>Not Selected</td>\n      <td>0</td>\n      <td>Room_Type 1</td>\n      <td>5</td>\n      <td>2018</td>\n      <td>11</td>\n      <td>6</td>\n      <td>Online</td>\n      <td>0</td>\n      <td>0</td>\n      <td>0</td>\n      <td>106.68</td>\n      <td>1</td>\n      <td>0</td>\n    </tr>\n    <tr>\n      <th>2</th>\n      <td>INN00003</td>\n      <td>1</td>\n      <td>0</td>\n      <td>2</td>\n      <td>1</td>\n      <td>Meal Plan 1</td>\n      <td>0</td>\n      <td>Room_Type 1</td>\n      <td>1</td>\n      <td>2018</td>\n      <td>2</td>\n      <td>28</td>\n      <td>Online</td>\n      <td>0</td>\n      <td>0</td>\n      <td>0</td>\n      <td>60.00</td>\n      <td>0</td>\n      <td>1</td>\n    </tr>\n    <tr>\n      <th>3</th>\n      <td>INN00004</td>\n      <td>2</td>\n      <td>0</td>\n      <td>0</td>\n      <td>2</td>\n      <td>Meal Plan 1</td>\n      <td>0</td>\n      <td>Room_Type 1</td>\n      <td>211</td>\n      <td>2018</td>\n      <td>5</td>\n      <td>20</td>\n      <td>Online</td>\n      <td>0</td>\n      <td>0</td>\n      <td>0</td>\n      <td>100.00</td>\n      <td>0</td>\n      <td>1</td>\n    </tr>\n    <tr>\n      <th>4</th>\n      <td>INN00005</td>\n      <td>2</td>\n      <td>0</td>\n      <td>1</td>\n      <td>1</td>\n      <td>Not Selected</td>\n      <td>0</td>\n      <td>Room_Type 1</td>\n      <td>48</td>\n      <td>2018</td>\n      <td>4</td>\n      <td>11</td>\n      <td>Online</td>\n      <td>0</td>\n      <td>0</td>\n      <td>0</td>\n      <td>94.50</td>\n      <td>0</td>\n      <td>1</td>\n    </tr>\n  </tbody>\n</table>\n</div>"
     },
     "execution_count": 11,
     "metadata": {},
     "output_type": "execute_result"
    }
   ],
   "source": [
    "# load the data\n",
    "url=\"https://raw.githubusercontent.com/KelvinYQC/msia420PA_project/6bb5fe63050105194819f99c90476486076e5227/Data/Hotel%20Reservations.csv\"\n",
    "dat=pd.read_csv(url)\n",
    "dat.booking_status.replace({\"Not_Canceled\": 0, \"Canceled\": 1},inplace=True)\n",
    "dat.head()"
   ],
   "metadata": {
    "collapsed": false,
    "pycharm": {
     "name": "#%%\n"
    }
   }
  },
  {
   "cell_type": "code",
   "execution_count": 5,
   "outputs": [],
   "source": [
    "# drop unique column\n",
    "dat.drop(columns='Booking_ID', inplace = True)"
   ],
   "metadata": {
    "collapsed": false,
    "pycharm": {
     "name": "#%%\n"
    }
   }
  },
  {
   "cell_type": "markdown",
   "source": [
    "## One-hot Encoding"
   ],
   "metadata": {
    "collapsed": false,
    "pycharm": {
     "name": "#%% md\n"
    }
   }
  },
  {
   "cell_type": "code",
   "execution_count": 6,
   "outputs": [
    {
     "data": {
      "text/plain": "   no_of_adults  no_of_children  no_of_weekend_nights  no_of_week_nights  \\\n0             2               0                     1                  2   \n1             2               0                     2                  3   \n2             1               0                     2                  1   \n3             2               0                     0                  2   \n4             2               0                     1                  1   \n\n   required_car_parking_space  lead_time  arrival_year  arrival_month  \\\n0                           0        224          2017             10   \n1                           0          5          2018             11   \n2                           0          1          2018              2   \n3                           0        211          2018              5   \n4                           0         48          2018              4   \n\n   arrival_date  repeated_guest  ...  room_type_reserved_Room_Type 2  \\\n0             2               0  ...                               0   \n1             6               0  ...                               0   \n2            28               0  ...                               0   \n3            20               0  ...                               0   \n4            11               0  ...                               0   \n\n   room_type_reserved_Room_Type 3  room_type_reserved_Room_Type 4  \\\n0                               0                               0   \n1                               0                               0   \n2                               0                               0   \n3                               0                               0   \n4                               0                               0   \n\n   room_type_reserved_Room_Type 5  room_type_reserved_Room_Type 6  \\\n0                               0                               0   \n1                               0                               0   \n2                               0                               0   \n3                               0                               0   \n4                               0                               0   \n\n   room_type_reserved_Room_Type 7  market_segment_type_Complementary  \\\n0                               0                                  0   \n1                               0                                  0   \n2                               0                                  0   \n3                               0                                  0   \n4                               0                                  0   \n\n   market_segment_type_Corporate  market_segment_type_Offline  \\\n0                              0                            1   \n1                              0                            0   \n2                              0                            0   \n3                              0                            0   \n4                              0                            0   \n\n   market_segment_type_Online  \n0                           0  \n1                           1  \n2                           1  \n3                           1  \n4                           1  \n\n[5 rows x 28 columns]",
      "text/html": "<div>\n<style scoped>\n    .dataframe tbody tr th:only-of-type {\n        vertical-align: middle;\n    }\n\n    .dataframe tbody tr th {\n        vertical-align: top;\n    }\n\n    .dataframe thead th {\n        text-align: right;\n    }\n</style>\n<table border=\"1\" class=\"dataframe\">\n  <thead>\n    <tr style=\"text-align: right;\">\n      <th></th>\n      <th>no_of_adults</th>\n      <th>no_of_children</th>\n      <th>no_of_weekend_nights</th>\n      <th>no_of_week_nights</th>\n      <th>required_car_parking_space</th>\n      <th>lead_time</th>\n      <th>arrival_year</th>\n      <th>arrival_month</th>\n      <th>arrival_date</th>\n      <th>repeated_guest</th>\n      <th>...</th>\n      <th>room_type_reserved_Room_Type 2</th>\n      <th>room_type_reserved_Room_Type 3</th>\n      <th>room_type_reserved_Room_Type 4</th>\n      <th>room_type_reserved_Room_Type 5</th>\n      <th>room_type_reserved_Room_Type 6</th>\n      <th>room_type_reserved_Room_Type 7</th>\n      <th>market_segment_type_Complementary</th>\n      <th>market_segment_type_Corporate</th>\n      <th>market_segment_type_Offline</th>\n      <th>market_segment_type_Online</th>\n    </tr>\n  </thead>\n  <tbody>\n    <tr>\n      <th>0</th>\n      <td>2</td>\n      <td>0</td>\n      <td>1</td>\n      <td>2</td>\n      <td>0</td>\n      <td>224</td>\n      <td>2017</td>\n      <td>10</td>\n      <td>2</td>\n      <td>0</td>\n      <td>...</td>\n      <td>0</td>\n      <td>0</td>\n      <td>0</td>\n      <td>0</td>\n      <td>0</td>\n      <td>0</td>\n      <td>0</td>\n      <td>0</td>\n      <td>1</td>\n      <td>0</td>\n    </tr>\n    <tr>\n      <th>1</th>\n      <td>2</td>\n      <td>0</td>\n      <td>2</td>\n      <td>3</td>\n      <td>0</td>\n      <td>5</td>\n      <td>2018</td>\n      <td>11</td>\n      <td>6</td>\n      <td>0</td>\n      <td>...</td>\n      <td>0</td>\n      <td>0</td>\n      <td>0</td>\n      <td>0</td>\n      <td>0</td>\n      <td>0</td>\n      <td>0</td>\n      <td>0</td>\n      <td>0</td>\n      <td>1</td>\n    </tr>\n    <tr>\n      <th>2</th>\n      <td>1</td>\n      <td>0</td>\n      <td>2</td>\n      <td>1</td>\n      <td>0</td>\n      <td>1</td>\n      <td>2018</td>\n      <td>2</td>\n      <td>28</td>\n      <td>0</td>\n      <td>...</td>\n      <td>0</td>\n      <td>0</td>\n      <td>0</td>\n      <td>0</td>\n      <td>0</td>\n      <td>0</td>\n      <td>0</td>\n      <td>0</td>\n      <td>0</td>\n      <td>1</td>\n    </tr>\n    <tr>\n      <th>3</th>\n      <td>2</td>\n      <td>0</td>\n      <td>0</td>\n      <td>2</td>\n      <td>0</td>\n      <td>211</td>\n      <td>2018</td>\n      <td>5</td>\n      <td>20</td>\n      <td>0</td>\n      <td>...</td>\n      <td>0</td>\n      <td>0</td>\n      <td>0</td>\n      <td>0</td>\n      <td>0</td>\n      <td>0</td>\n      <td>0</td>\n      <td>0</td>\n      <td>0</td>\n      <td>1</td>\n    </tr>\n    <tr>\n      <th>4</th>\n      <td>2</td>\n      <td>0</td>\n      <td>1</td>\n      <td>1</td>\n      <td>0</td>\n      <td>48</td>\n      <td>2018</td>\n      <td>4</td>\n      <td>11</td>\n      <td>0</td>\n      <td>...</td>\n      <td>0</td>\n      <td>0</td>\n      <td>0</td>\n      <td>0</td>\n      <td>0</td>\n      <td>0</td>\n      <td>0</td>\n      <td>0</td>\n      <td>0</td>\n      <td>1</td>\n    </tr>\n  </tbody>\n</table>\n<p>5 rows × 28 columns</p>\n</div>"
     },
     "execution_count": 6,
     "metadata": {},
     "output_type": "execute_result"
    }
   ],
   "source": [
    "dat_dummy = pd.get_dummies(dat, drop_first=True)\n",
    "dat_dummy.head()"
   ],
   "metadata": {
    "collapsed": false,
    "pycharm": {
     "name": "#%%\n"
    }
   }
  },
  {
   "cell_type": "markdown",
   "source": [
    "## Check for Outliers\n"
   ],
   "metadata": {
    "collapsed": false,
    "pycharm": {
     "name": "#%% md\n"
    }
   }
  },
  {
   "cell_type": "code",
   "execution_count": 7,
   "outputs": [
    {
     "data": {
      "text/plain": "   no_of_adults  no_of_children  no_of_weekend_nights  no_of_week_nights  \\\n0             2               0                     1                  2   \n1             2               0                     2                  3   \n2             1               0                     2                  1   \n3             2               0                     0                  2   \n4             2               0                     1                  1   \n\n   required_car_parking_space  lead_time  arrival_year  arrival_month  \\\n0                           0        224          2017             10   \n1                           0          5          2018             11   \n2                           0          1          2018              2   \n3                           0        211          2018              5   \n4                           0         48          2018              4   \n\n   arrival_date  repeated_guest  ...  room_type_reserved_Room_Type 4  \\\n0             2               0  ...                               0   \n1             6               0  ...                               0   \n2            28               0  ...                               0   \n3            20               0  ...                               0   \n4            11               0  ...                               0   \n\n   room_type_reserved_Room_Type 5  room_type_reserved_Room_Type 6  \\\n0                               0                               0   \n1                               0                               0   \n2                               0                               0   \n3                               0                               0   \n4                               0                               0   \n\n   room_type_reserved_Room_Type 7  market_segment_type_Complementary  \\\n0                               0                                  0   \n1                               0                                  0   \n2                               0                                  0   \n3                               0                                  0   \n4                               0                                  0   \n\n   market_segment_type_Corporate  market_segment_type_Offline  \\\n0                              0                            1   \n1                              0                            0   \n2                              0                            0   \n3                              0                            0   \n4                              0                            0   \n\n   market_segment_type_Online    scores  anomaly  \n0                           0  0.063313        1  \n1                           1  0.080643        1  \n2                           1  0.064117        1  \n3                           1  0.116207        1  \n4                           1  0.091759        1  \n\n[5 rows x 30 columns]",
      "text/html": "<div>\n<style scoped>\n    .dataframe tbody tr th:only-of-type {\n        vertical-align: middle;\n    }\n\n    .dataframe tbody tr th {\n        vertical-align: top;\n    }\n\n    .dataframe thead th {\n        text-align: right;\n    }\n</style>\n<table border=\"1\" class=\"dataframe\">\n  <thead>\n    <tr style=\"text-align: right;\">\n      <th></th>\n      <th>no_of_adults</th>\n      <th>no_of_children</th>\n      <th>no_of_weekend_nights</th>\n      <th>no_of_week_nights</th>\n      <th>required_car_parking_space</th>\n      <th>lead_time</th>\n      <th>arrival_year</th>\n      <th>arrival_month</th>\n      <th>arrival_date</th>\n      <th>repeated_guest</th>\n      <th>...</th>\n      <th>room_type_reserved_Room_Type 4</th>\n      <th>room_type_reserved_Room_Type 5</th>\n      <th>room_type_reserved_Room_Type 6</th>\n      <th>room_type_reserved_Room_Type 7</th>\n      <th>market_segment_type_Complementary</th>\n      <th>market_segment_type_Corporate</th>\n      <th>market_segment_type_Offline</th>\n      <th>market_segment_type_Online</th>\n      <th>scores</th>\n      <th>anomaly</th>\n    </tr>\n  </thead>\n  <tbody>\n    <tr>\n      <th>0</th>\n      <td>2</td>\n      <td>0</td>\n      <td>1</td>\n      <td>2</td>\n      <td>0</td>\n      <td>224</td>\n      <td>2017</td>\n      <td>10</td>\n      <td>2</td>\n      <td>0</td>\n      <td>...</td>\n      <td>0</td>\n      <td>0</td>\n      <td>0</td>\n      <td>0</td>\n      <td>0</td>\n      <td>0</td>\n      <td>1</td>\n      <td>0</td>\n      <td>0.063313</td>\n      <td>1</td>\n    </tr>\n    <tr>\n      <th>1</th>\n      <td>2</td>\n      <td>0</td>\n      <td>2</td>\n      <td>3</td>\n      <td>0</td>\n      <td>5</td>\n      <td>2018</td>\n      <td>11</td>\n      <td>6</td>\n      <td>0</td>\n      <td>...</td>\n      <td>0</td>\n      <td>0</td>\n      <td>0</td>\n      <td>0</td>\n      <td>0</td>\n      <td>0</td>\n      <td>0</td>\n      <td>1</td>\n      <td>0.080643</td>\n      <td>1</td>\n    </tr>\n    <tr>\n      <th>2</th>\n      <td>1</td>\n      <td>0</td>\n      <td>2</td>\n      <td>1</td>\n      <td>0</td>\n      <td>1</td>\n      <td>2018</td>\n      <td>2</td>\n      <td>28</td>\n      <td>0</td>\n      <td>...</td>\n      <td>0</td>\n      <td>0</td>\n      <td>0</td>\n      <td>0</td>\n      <td>0</td>\n      <td>0</td>\n      <td>0</td>\n      <td>1</td>\n      <td>0.064117</td>\n      <td>1</td>\n    </tr>\n    <tr>\n      <th>3</th>\n      <td>2</td>\n      <td>0</td>\n      <td>0</td>\n      <td>2</td>\n      <td>0</td>\n      <td>211</td>\n      <td>2018</td>\n      <td>5</td>\n      <td>20</td>\n      <td>0</td>\n      <td>...</td>\n      <td>0</td>\n      <td>0</td>\n      <td>0</td>\n      <td>0</td>\n      <td>0</td>\n      <td>0</td>\n      <td>0</td>\n      <td>1</td>\n      <td>0.116207</td>\n      <td>1</td>\n    </tr>\n    <tr>\n      <th>4</th>\n      <td>2</td>\n      <td>0</td>\n      <td>1</td>\n      <td>1</td>\n      <td>0</td>\n      <td>48</td>\n      <td>2018</td>\n      <td>4</td>\n      <td>11</td>\n      <td>0</td>\n      <td>...</td>\n      <td>0</td>\n      <td>0</td>\n      <td>0</td>\n      <td>0</td>\n      <td>0</td>\n      <td>0</td>\n      <td>0</td>\n      <td>1</td>\n      <td>0.091759</td>\n      <td>1</td>\n    </tr>\n  </tbody>\n</table>\n<p>5 rows × 30 columns</p>\n</div>"
     },
     "execution_count": 7,
     "metadata": {},
     "output_type": "execute_result"
    }
   ],
   "source": [
    "from sklearn.ensemble import IsolationForest\n",
    "dat_iso = dat_dummy\n",
    "model = IsolationForest(n_estimators = 150,max_samples ='auto',contamination = \"auto\", max_features = 1.0)\n",
    "model.fit(dat_iso)\n",
    "scores = model.decision_function(dat_iso)\n",
    "anomaly = model.predict(dat_iso)\n",
    "dat_iso['scores'] = scores\n",
    "dat_iso['anomaly'] = anomaly\n",
    "anomaly = dat_iso.loc[dat_iso['anomaly'] == -1]\n",
    "anomaly_index = list(dat_iso.index)\n",
    "dat_iso_drop = dat_iso[dat_iso.anomaly == 1]\n",
    "dat_iso_drop.head()"
   ],
   "metadata": {
    "collapsed": false,
    "pycharm": {
     "name": "#%%\n"
    }
   }
  },
  {
   "cell_type": "markdown",
   "source": [
    "dat_iso['anomaly'].value_counts()"
   ],
   "metadata": {
    "collapsed": false,
    "pycharm": {
     "name": "#%% md\n"
    }
   }
  },
  {
   "cell_type": "code",
   "execution_count": 8,
   "outputs": [
    {
     "name": "stderr",
     "output_type": "stream",
     "text": [
      "/var/folders/5_/39stv43d5_70psn53dfmjwt00000gn/T/ipykernel_69909/3233552886.py:1: SettingWithCopyWarning: \n",
      "A value is trying to be set on a copy of a slice from a DataFrame\n",
      "\n",
      "See the caveats in the documentation: https://pandas.pydata.org/pandas-docs/stable/user_guide/indexing.html#returning-a-view-versus-a-copy\n",
      "  dat_iso_drop.drop(columns=['scores', 'anomaly'], inplace= True)\n"
     ]
    },
    {
     "data": {
      "text/plain": "   no_of_adults  no_of_children  no_of_weekend_nights  no_of_week_nights  \\\n0             2               0                     1                  2   \n1             2               0                     2                  3   \n2             1               0                     2                  1   \n3             2               0                     0                  2   \n4             2               0                     1                  1   \n\n   required_car_parking_space  lead_time  arrival_year  arrival_month  \\\n0                           0        224          2017             10   \n1                           0          5          2018             11   \n2                           0          1          2018              2   \n3                           0        211          2018              5   \n4                           0         48          2018              4   \n\n   arrival_date  repeated_guest  ...  room_type_reserved_Room_Type 2  \\\n0             2               0  ...                               0   \n1             6               0  ...                               0   \n2            28               0  ...                               0   \n3            20               0  ...                               0   \n4            11               0  ...                               0   \n\n   room_type_reserved_Room_Type 3  room_type_reserved_Room_Type 4  \\\n0                               0                               0   \n1                               0                               0   \n2                               0                               0   \n3                               0                               0   \n4                               0                               0   \n\n   room_type_reserved_Room_Type 5  room_type_reserved_Room_Type 6  \\\n0                               0                               0   \n1                               0                               0   \n2                               0                               0   \n3                               0                               0   \n4                               0                               0   \n\n   room_type_reserved_Room_Type 7  market_segment_type_Complementary  \\\n0                               0                                  0   \n1                               0                                  0   \n2                               0                                  0   \n3                               0                                  0   \n4                               0                                  0   \n\n   market_segment_type_Corporate  market_segment_type_Offline  \\\n0                              0                            1   \n1                              0                            0   \n2                              0                            0   \n3                              0                            0   \n4                              0                            0   \n\n   market_segment_type_Online  \n0                           0  \n1                           1  \n2                           1  \n3                           1  \n4                           1  \n\n[5 rows x 28 columns]",
      "text/html": "<div>\n<style scoped>\n    .dataframe tbody tr th:only-of-type {\n        vertical-align: middle;\n    }\n\n    .dataframe tbody tr th {\n        vertical-align: top;\n    }\n\n    .dataframe thead th {\n        text-align: right;\n    }\n</style>\n<table border=\"1\" class=\"dataframe\">\n  <thead>\n    <tr style=\"text-align: right;\">\n      <th></th>\n      <th>no_of_adults</th>\n      <th>no_of_children</th>\n      <th>no_of_weekend_nights</th>\n      <th>no_of_week_nights</th>\n      <th>required_car_parking_space</th>\n      <th>lead_time</th>\n      <th>arrival_year</th>\n      <th>arrival_month</th>\n      <th>arrival_date</th>\n      <th>repeated_guest</th>\n      <th>...</th>\n      <th>room_type_reserved_Room_Type 2</th>\n      <th>room_type_reserved_Room_Type 3</th>\n      <th>room_type_reserved_Room_Type 4</th>\n      <th>room_type_reserved_Room_Type 5</th>\n      <th>room_type_reserved_Room_Type 6</th>\n      <th>room_type_reserved_Room_Type 7</th>\n      <th>market_segment_type_Complementary</th>\n      <th>market_segment_type_Corporate</th>\n      <th>market_segment_type_Offline</th>\n      <th>market_segment_type_Online</th>\n    </tr>\n  </thead>\n  <tbody>\n    <tr>\n      <th>0</th>\n      <td>2</td>\n      <td>0</td>\n      <td>1</td>\n      <td>2</td>\n      <td>0</td>\n      <td>224</td>\n      <td>2017</td>\n      <td>10</td>\n      <td>2</td>\n      <td>0</td>\n      <td>...</td>\n      <td>0</td>\n      <td>0</td>\n      <td>0</td>\n      <td>0</td>\n      <td>0</td>\n      <td>0</td>\n      <td>0</td>\n      <td>0</td>\n      <td>1</td>\n      <td>0</td>\n    </tr>\n    <tr>\n      <th>1</th>\n      <td>2</td>\n      <td>0</td>\n      <td>2</td>\n      <td>3</td>\n      <td>0</td>\n      <td>5</td>\n      <td>2018</td>\n      <td>11</td>\n      <td>6</td>\n      <td>0</td>\n      <td>...</td>\n      <td>0</td>\n      <td>0</td>\n      <td>0</td>\n      <td>0</td>\n      <td>0</td>\n      <td>0</td>\n      <td>0</td>\n      <td>0</td>\n      <td>0</td>\n      <td>1</td>\n    </tr>\n    <tr>\n      <th>2</th>\n      <td>1</td>\n      <td>0</td>\n      <td>2</td>\n      <td>1</td>\n      <td>0</td>\n      <td>1</td>\n      <td>2018</td>\n      <td>2</td>\n      <td>28</td>\n      <td>0</td>\n      <td>...</td>\n      <td>0</td>\n      <td>0</td>\n      <td>0</td>\n      <td>0</td>\n      <td>0</td>\n      <td>0</td>\n      <td>0</td>\n      <td>0</td>\n      <td>0</td>\n      <td>1</td>\n    </tr>\n    <tr>\n      <th>3</th>\n      <td>2</td>\n      <td>0</td>\n      <td>0</td>\n      <td>2</td>\n      <td>0</td>\n      <td>211</td>\n      <td>2018</td>\n      <td>5</td>\n      <td>20</td>\n      <td>0</td>\n      <td>...</td>\n      <td>0</td>\n      <td>0</td>\n      <td>0</td>\n      <td>0</td>\n      <td>0</td>\n      <td>0</td>\n      <td>0</td>\n      <td>0</td>\n      <td>0</td>\n      <td>1</td>\n    </tr>\n    <tr>\n      <th>4</th>\n      <td>2</td>\n      <td>0</td>\n      <td>1</td>\n      <td>1</td>\n      <td>0</td>\n      <td>48</td>\n      <td>2018</td>\n      <td>4</td>\n      <td>11</td>\n      <td>0</td>\n      <td>...</td>\n      <td>0</td>\n      <td>0</td>\n      <td>0</td>\n      <td>0</td>\n      <td>0</td>\n      <td>0</td>\n      <td>0</td>\n      <td>0</td>\n      <td>0</td>\n      <td>1</td>\n    </tr>\n  </tbody>\n</table>\n<p>5 rows × 28 columns</p>\n</div>"
     },
     "execution_count": 8,
     "metadata": {},
     "output_type": "execute_result"
    }
   ],
   "source": [
    "dat_iso_drop.drop(columns=['scores', 'anomaly'], inplace= True)\n",
    "dat_iso_drop.head()"
   ],
   "metadata": {
    "collapsed": false,
    "pycharm": {
     "name": "#%%\n"
    }
   }
  },
  {
   "cell_type": "markdown",
   "source": [
    "We will check model performance on both original dataset and removed outliers dataset."
   ],
   "metadata": {
    "collapsed": false,
    "pycharm": {
     "name": "#%% md\n"
    }
   }
  }
 ],
 "metadata": {
  "kernelspec": {
   "display_name": "Python 3",
   "language": "python",
   "name": "python3"
  },
  "language_info": {
   "codemirror_mode": {
    "name": "ipython",
    "version": 2
   },
   "file_extension": ".py",
   "mimetype": "text/x-python",
   "name": "python",
   "nbconvert_exporter": "python",
   "pygments_lexer": "ipython2",
   "version": "2.7.6"
  }
 },
 "nbformat": 4,
 "nbformat_minor": 0
}